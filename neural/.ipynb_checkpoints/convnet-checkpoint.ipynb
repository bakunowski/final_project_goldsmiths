{
 "cells": [
  {
   "cell_type": "code",
   "execution_count": 92,
   "metadata": {},
   "outputs": [
    {
     "name": "stdout",
     "output_type": "stream",
     "text": [
      "1.13.1\n",
      "2.2.4-tf\n",
      "(860, 45, 13)\n",
      "(860,)\n",
      "24\n",
      "[12 13 14 15 16 17 18 19 20 21 22 23 24 25 26 27 28 29 30 31 32 33 34 35]\n",
      "Train dimensions (800, 45, 13)\n",
      "Train labels dimensions (800,)\n"
     ]
    }
   ],
   "source": [
    "import json\n",
    "import numpy as np\n",
    "import tensorflow as tf\n",
    "from tensorflow.keras import layers\n",
    "import pandas as pd\n",
    "\n",
    "print(tf.VERSION)\n",
    "print(tf.keras.__version__)\n",
    "with open(\n",
    "        '/Users/bakunowski/Documents/goldsmiths/2018_19/dissertation/project/neural/MFCC_new.json'\n",
    ") as f:\n",
    "    d2 = json.load(f)\n",
    "\n",
    "\n",
    "mfcc = np.array(d2[\"lowlevel\"][\"mfcc\"])[0:38700].reshape(860, 45, 13)\n",
    "\n",
    "\n",
    "with open(\n",
    "        '/Users/bakunowski/Documents/goldsmiths/2018_19/dissertation/project/neural/parameters_new.json'\n",
    ") as f:\n",
    "    d1 = json.load(f)\n",
    "\n",
    "duration = np.array(d1[\"parameters\"][\"duration\"])[0:860].reshape(860, 1)\n",
    "numberOfGrains = np.array(d1[\"parameters\"][\"numberOfGrains\"])[0:860].reshape(860, 1)\n",
    "pitch = np.array(d1[\"parameters\"][\"pitch\"])[0:860]\n",
    "position = np.array(d1[\"parameters\"][\"position\"])[0:860].reshape(860, 1)\n",
    "spread = np.array(d1[\"parameters\"][\"spread\"])[0:860].reshape(860, 1)\n",
    "\n",
    "# parameters = np.concatenate(\n",
    "#     (duration, numberOfGrains, pitch, position, spread), axis=1)\n",
    "\n",
    "# print(test.shape)\n",
    "print(mfcc.shape)\n",
    "\n",
    "# print(test.shape)\n",
    "print(pitch.shape)\n",
    "\n",
    "X_train = mfcc[:800]\n",
    "# y_train = parameters\n",
    "y_train = pitch[:800]+12\n",
    "print(len(np.unique(pitch)))\n",
    "w = y_train+12\n",
    "print(np.unique(w))\n",
    "\n",
    "X_test = mfcc[800:860]\n",
    "y_test = pitch[800:860]+12\n",
    "\n",
    "np.set_printoptions(suppress=True)\n",
    "print(\"Train dimensions\", X_train.shape)\n",
    "print(\"Train labels dimensions\", y_train.shape)"
   ]
  },
  {
   "cell_type": "code",
   "execution_count": 106,
   "metadata": {},
   "outputs": [
    {
     "data": {
      "image/png": "[encoded data removed]",
      "text/plain": [
       "<Figure size 432x288 with 2 Axes>"
      ]
     },
     "metadata": {
      "needs_background": "light"
     },
     "output_type": "display_data"
    }
   ],
   "source": [
    "plt.figure()\n",
    "plt.imshow(X_train[150])\n",
    "plt.colorbar()\n",
    "plt.grid(False)\n",
    "plt.show()"
   ]
  },
  {
   "cell_type": "code",
   "execution_count": 108,
   "metadata": {},
   "outputs": [],
   "source": [
    "def norm(x):\n",
    "    return (x - np.mean(x)) / np.std(x)\n",
    "\n",
    "# norm(X_train)"
   ]
  },
  {
   "cell_type": "code",
   "execution_count": 113,
   "metadata": {},
   "outputs": [
    {
     "data": {
      "image/png": "[encoded data removed]",
      "text/plain": [
       "<Figure size 720x720 with 25 Axes>"
      ]
     },
     "metadata": {},
     "output_type": "display_data"
    }
   ],
   "source": [
    "plt.figure(figsize=(10,10))\n",
    "for i in range(25):\n",
    "    plt.subplot(5,5,i+1)\n",
    "    plt.xticks([])\n",
    "    plt.yticks([])\n",
    "    plt.grid(False)\n",
    "    plt.imshow(X_train[i], cmap=plt.cm.binary)\n",
    "    plt.xlabel([y_train[i]])\n",
    "plt.show()"
   ]
  },
  {
   "cell_type": "code",
   "execution_count": 114,
   "metadata": {},
   "outputs": [
    {
     "name": "stdout",
     "output_type": "stream",
     "text": [
      "_________________________________________________________________\n",
      "Layer (type)                 Output Shape              Param #   \n",
      "=================================================================\n",
      "flatten_42 (Flatten)         (None, 585)               0         \n",
      "_________________________________________________________________\n",
      "dense_83 (Dense)             (None, 128)               75008     \n",
      "_________________________________________________________________\n",
      "dense_84 (Dense)             (None, 24)                3096      \n",
      "=================================================================\n",
      "Total params: 78,104\n",
      "Trainable params: 78,104\n",
      "Non-trainable params: 0\n",
      "_________________________________________________________________\n"
     ]
    }
   ],
   "source": [
    "model = keras.Sequential([\n",
    "    keras.layers.Flatten(input_shape=(45, 13)),\n",
    "    keras.layers.Dense(128, activation=tf.nn.relu),\n",
    "    keras.layers.Dense(24, activation=tf.nn.softmax),\n",
    "])\n",
    "\n",
    "\n",
    "model.compile(optimizer='adam',\n",
    "            loss='sparse_categorical_crossentropy',\n",
    "            metrics=['accuracy'])\n",
    "\n",
    "\n",
    "\n",
    "model.summary()"
   ]
  },
  {
   "cell_type": "code",
   "execution_count": 115,
   "metadata": {},
   "outputs": [
    {
     "name": "stdout",
     "output_type": "stream",
     "text": [
      "[[0.16632524 0.03857165 0.01849297 0.01378034 0.05037134 0.00896392\n",
      "  0.00834535 0.01596956 0.01769142 0.03965933 0.08262143 0.02863763\n",
      "  0.02239246 0.02605238 0.02401926 0.01405328 0.07365774 0.08602602\n",
      "  0.03637145 0.05118058 0.1049834  0.01618802 0.01628854 0.0393567 ]\n",
      " [0.12181332 0.03820715 0.02722329 0.02436785 0.0598632  0.0131349\n",
      "  0.01289167 0.01572023 0.0212651  0.03503077 0.08041753 0.02972188\n",
      "  0.02349761 0.03008125 0.02705979 0.01327906 0.06843092 0.07225482\n",
      "  0.03754568 0.0475327  0.12254269 0.01812927 0.01798514 0.04200419]\n",
      " [0.1425732  0.059969   0.01475906 0.01669191 0.04965115 0.01053039\n",
      "  0.00799169 0.01301939 0.01604423 0.02208754 0.08861166 0.03532383\n",
      "  0.01869387 0.02529729 0.02056339 0.01047974 0.09100391 0.0631176\n",
      "  0.04152816 0.05352128 0.11560205 0.01639052 0.01588298 0.05066621]\n",
      " [0.12587267 0.04765126 0.01205806 0.01487164 0.05762092 0.00840225\n",
      "  0.00939676 0.01289484 0.01840805 0.02066461 0.0999864  0.03273338\n",
      "  0.01808137 0.02692433 0.02294462 0.01112313 0.09159002 0.0606278\n",
      "  0.0404499  0.05588549 0.11443334 0.01506274 0.01773567 0.06458073]\n",
      " [0.12640119 0.04777073 0.01194582 0.01494073 0.05732157 0.00847595\n",
      "  0.00935479 0.01289324 0.01849042 0.02047028 0.10028926 0.03315699\n",
      "  0.01815827 0.02703487 0.02280299 0.01110971 0.09192909 0.0605526\n",
      "  0.04013664 0.0561048  0.11407486 0.01502051 0.01773028 0.06383441]\n",
      " [0.12619293 0.04768519 0.0119623  0.01500156 0.05733232 0.00846155\n",
      "  0.00934342 0.01288843 0.01851778 0.02048074 0.09991772 0.03315151\n",
      "  0.01814333 0.02705286 0.02279301 0.01114208 0.09187193 0.06064101\n",
      "  0.04021531 0.05611224 0.11438972 0.01505332 0.01772799 0.06392171]\n",
      " [0.12618913 0.04768546 0.01196582 0.01500105 0.05730454 0.00846301\n",
      "  0.00934119 0.01288849 0.01851578 0.02049075 0.09992827 0.03314199\n",
      "  0.01813309 0.02705616 0.02277283 0.01113674 0.09186798 0.06063272\n",
      "  0.04021624 0.05611796 0.1144497  0.01504749 0.01771932 0.0639343 ]\n",
      " [0.12621611 0.04769381 0.01196164 0.01500335 0.057286   0.00845974\n",
      "  0.00934451 0.01288878 0.01851257 0.02049387 0.09992652 0.03313912\n",
      "  0.01813435 0.02705678 0.02277393 0.01113466 0.09187396 0.06063657\n",
      "  0.04020463 0.05611491 0.11445822 0.01504687 0.01772426 0.0639148 ]\n",
      " [0.12673235 0.0475538  0.01185574 0.01493681 0.05791018 0.00846727\n",
      "  0.00932741 0.01284882 0.01838557 0.02072086 0.10005955 0.03372007\n",
      "  0.01836621 0.02731231 0.02291308 0.01114339 0.09151527 0.06111309\n",
      "  0.03962022 0.05500156 0.1135193  0.01510268 0.01802008 0.06385434]\n",
      " [0.12604955 0.04777787 0.01195057 0.01501565 0.05762238 0.00844467\n",
      "  0.00931715 0.01288141 0.01858588 0.02048006 0.09992324 0.03336247\n",
      "  0.01823405 0.02721083 0.02279821 0.011163   0.09169151 0.06061717\n",
      "  0.04022514 0.05588309 0.11378793 0.01506857 0.01790924 0.06400022]]\n"
     ]
    }
   ],
   "source": [
    "example_batch = norm(X_train[:10])\n",
    "example_result = model.predict(example_batch)\n",
    "print(example_result)"
   ]
  },
  {
   "cell_type": "code",
   "execution_count": 123,
   "metadata": {},
   "outputs": [
    {
     "name": "stdout",
     "output_type": "stream",
     "text": [
      "Epoch 1/5\n",
      "800/800 [==============================] - 0s 67us/step - loss: 15.5741 - acc: 0.0337\n",
      "Epoch 2/5\n",
      "800/800 [==============================] - 0s 106us/step - loss: 15.5741 - acc: 0.0337\n",
      "Epoch 3/5\n",
      "800/800 [==============================] - 0s 123us/step - loss: 15.5741 - acc: 0.0337\n",
      "Epoch 4/5\n",
      "800/800 [==============================] - 0s 88us/step - loss: 15.5741 - acc: 0.0337\n",
      "Epoch 5/5\n",
      "800/800 [==============================] - 0s 72us/step - loss: 15.5741 - acc: 0.0337\n",
      "60/60 [==============================] - 0s 50us/step\n",
      "Test accuracy: 0.05000000149011612\n",
      "16\n",
      "16\n",
      "16\n",
      "16\n",
      "16\n",
      "16\n",
      "16\n",
      "16\n",
      "16\n",
      "16\n",
      "16\n",
      "16\n",
      "16\n",
      "16\n",
      "16\n",
      "16\n",
      "16\n",
      "16\n",
      "16\n",
      "16\n",
      "16\n",
      "16\n",
      "16\n",
      "16\n",
      "16\n",
      "16\n",
      "16\n",
      "16\n",
      "16\n",
      "16\n",
      "16\n",
      "16\n",
      "16\n",
      "16\n",
      "16\n",
      "16\n",
      "16\n",
      "16\n",
      "16\n",
      "16\n",
      "16\n",
      "16\n",
      "16\n",
      "16\n",
      "16\n",
      "16\n",
      "16\n",
      "16\n",
      "16\n",
      "16\n",
      "16\n",
      "16\n",
      "16\n",
      "16\n",
      "16\n",
      "16\n",
      "16\n",
      "16\n",
      "16\n",
      "16\n",
      "[21  1  5 22  2 19 23  3 20  0 17 21  1 18 22  2 19 23 17 20  0 17 21 15\n",
      " 18 22  2 19 23 16 20  0 17 21 15 18 22 15 19 13 16 20 14 17 21 14 18 12\n",
      " 15 19 13 16 10 14 17 21 14 18 12 15]\n"
     ]
    }
   ],
   "source": [
    "model.fit(X_train,\n",
    "          y_train,\n",
    "          epochs=5,\n",
    "          verbose=1)\n",
    "\n",
    "# hist = pd.DataFrame(history.history)\n",
    "# hist['epoch'] = history.epoch\n",
    "# hist.tail()\n",
    "\n",
    "test_loss, test_acc = model.evaluate(X_test, y_test)\n",
    "\n",
    "print('Test accuracy:', test_acc)\n",
    "\n",
    "test_pred = model.predict(X_test)\n",
    "for i in range(len(test_pred)):\n",
    "    print(np.argmax(test_pred[i]))\n",
    "print(y_test)"
   ]
  },
  {
   "cell_type": "code",
   "execution_count": null,
   "metadata": {},
   "outputs": [],
   "source": []
  }
 ],
 "metadata": {
  "kernelspec": {
   "display_name": "Python 3",
   "language": "python",
   "name": "python3"
  },
  "language_info": {
   "codemirror_mode": {
    "name": "ipython",
    "version": 3
   },
   "file_extension": ".py",
   "mimetype": "text/x-python",
   "name": "python",
   "nbconvert_exporter": "python",
   "pygments_lexer": "ipython3",
   "version": "3.7.3"
  }
 },
 "nbformat": 4,
 "nbformat_minor": 2
}
